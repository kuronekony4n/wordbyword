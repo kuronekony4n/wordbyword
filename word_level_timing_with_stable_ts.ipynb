{
  "nbformat": 4,
  "nbformat_minor": 0,
  "metadata": {
    "colab": {
      "provenance": [],
      "gpuType": "T4"
    },
    "kernelspec": {
      "name": "python3",
      "display_name": "Python 3"
    },
    "language_info": {
      "name": "python"
    },
    "accelerator": "GPU"
  },
  "cells": [
    {
      "cell_type": "markdown",
      "source": [
        "# Check GPU availability"
      ],
      "metadata": {
        "id": "KyF0sZteu7ec"
      }
    },
    {
      "cell_type": "code",
      "source": [
        "!nvidia-smi"
      ],
      "metadata": {
        "id": "8ZW7t9Sdu6X0",
        "colab": {
          "base_uri": "https://localhost:8080/"
        },
        "outputId": "4f30671c-448f-49d5-ce3a-8dda5ecc8a4e"
      },
      "execution_count": 1,
      "outputs": [
        {
          "output_type": "stream",
          "name": "stdout",
          "text": [
            "Sun Dec 10 19:14:47 2023       \n",
            "+-----------------------------------------------------------------------------+\n",
            "| NVIDIA-SMI 525.105.17   Driver Version: 525.105.17   CUDA Version: 12.0     |\n",
            "|-------------------------------+----------------------+----------------------+\n",
            "| GPU  Name        Persistence-M| Bus-Id        Disp.A | Volatile Uncorr. ECC |\n",
            "| Fan  Temp  Perf  Pwr:Usage/Cap|         Memory-Usage | GPU-Util  Compute M. |\n",
            "|                               |                      |               MIG M. |\n",
            "|===============================+======================+======================|\n",
            "|   0  Tesla T4            Off  | 00000000:00:04.0 Off |                    0 |\n",
            "| N/A   64C    P8    11W /  70W |      0MiB / 15360MiB |      0%      Default |\n",
            "|                               |                      |                  N/A |\n",
            "+-------------------------------+----------------------+----------------------+\n",
            "                                                                               \n",
            "+-----------------------------------------------------------------------------+\n",
            "| Processes:                                                                  |\n",
            "|  GPU   GI   CI        PID   Type   Process name                  GPU Memory |\n",
            "|        ID   ID                                                   Usage      |\n",
            "|=============================================================================|\n",
            "|  No running processes found                                                 |\n",
            "+-----------------------------------------------------------------------------+\n"
          ]
        }
      ]
    },
    {
      "cell_type": "code",
      "source": [
        "# Install Stable-ts\n",
        "!pip install -U tiktoken\n",
        "!pip install -U openai\n",
        "!pip install -U cohere\n",
        "!pip install -U stable-ts\n",
        "!pip install --no-deps \"triton==2.0.0\"\n",
        "# Install wordbyword.py by willydev\n",
        "!wget -q \"https://raw.githubusercontent.com/kuronekony4n/wordbyword/main/wordbyword.py\""
      ],
      "metadata": {
        "id": "nvmXbMvlKknm"
      },
      "execution_count": null,
      "outputs": []
    },
    {
      "cell_type": "code",
      "source": [
        "!ls"
      ],
      "metadata": {
        "id": "ttTpi_vsGCE5"
      },
      "execution_count": null,
      "outputs": []
    },
    {
      "cell_type": "code",
      "source": [
        "#@title Make a subtitle!\n",
        "#@markdown ---\n",
        "#@markdown Options:\n",
        "filename = 'audio.mp3'  #@param {type: \"string\"}\n",
        "model = \"large-v2\"  #@param ['tiny.en', 'tiny', 'base.en', 'base', 'small.en', 'small', 'medium.en', 'medium', 'large-v1', 'large-v2', 'large']\n",
        "task = \"transcribe\"  #@param ['translate', 'transcribe']\n",
        "languange = \"Indonesian\"  #@param [  \"Afrikaans\",  \"Albanian\",  \"Amharic\",  \"Arabic\",  \"Armenian\",  \"Assamese\",  \"Azerbaijani\",  \"Bashkir\",  \"Basque\",  \"Belarusian\",  \"Bengali\",  \"Bosnian\",  \"Breton\",  \"Bulgarian\",  \"Burmese\",  \"Castilian\",  \"Catalan\",  \"Chinese\",  \"Croatian\",  \"Czech\",  \"Danish\",  \"Dutch\",  \"English\",  \"Estonian\",  \"Faroese\",  \"Finnish\",  \"Flemish\",  \"French\",  \"Galician\",  \"Georgian\",  \"German\",  \"Greek\",  \"Gujarati\",  \"Haitian\",  \"Haitian Creole\",  \"Hausa\",  \"Hawaiian\",  \"Hebrew\",  \"Hindi\",  \"Hungarian\",  \"Icelandic\",  \"Indonesian\",  \"Italian\",  \"Japanese\",  \"Javanese\",  \"Kannada\",  \"Kazakh\",  \"Khmer\",  \"Korean\",  \"Lao\",  \"Latin\",  \"Latvian\",  \"Letzeburgesch\",  \"Lingala\",  \"Lithuanian\",  \"Luxembourgish\",  \"Macedonian\",  \"Malagasy\",  \"Malay\",  \"Malayalam\",  \"Maltese\",  \"Maori\",  \"Marathi\",  \"Moldavian\",  \"Moldovan\",  \"Mongolian\",  \"Myanmar\",  \"Nepali\",  \"Norwegian\",  \"Nynorsk\",  \"Occitan\",  \"Panjabi\",  \"Pashto\",  \"Persian\",  \"Polish\",  \"Portuguese\",  \"Punjabi\",  \"Pushto\",  \"Romanian\",  \"Russian\",  \"Sanskrit\",  \"Serbian\",  \"Shona\",  \"Sindhi\",  \"Sinhala\",  \"Sinhalese\",  \"Slovak\",  \"Slovenian\",  \"Somali\",  \"Spanish\",  \"Sundanese\",  \"Swahili\",  \"Swedish\",  \"Tagalog\",  \"Tajik\",  \"Tamil\",  \"Tatar\",  \"Telugu\",  \"Thai\",  \"Tibetan\",  \"Turkish\",  \"Turkmen\",  \"Ukrainian\",  \"Urdu\",  \"Uzbek\",  \"Valencian\",  \"Vietnamese\",  \"Welsh\",  \"Yiddish\",  \"Yoruba\"]\n",
        "saveas = 'sub.srt'  #@param {type: \"string\"}\n",
        "#@markdown ---\n",
        "#@markdown Maximum words per line:\n",
        "max_words = 10  #@param {type: \"number\"}\n",
        "#@markdown Make each word timed and highlighted:\n",
        "word_level = True #@param {type:\"boolean\"}\n",
        "#@markdown Only output each word per line: (word_level need to be true)\n",
        "wordbyword_py = True #@param {type:\"boolean\"}\n",
        "\n",
        "if word_level:\n",
        "    print(\"USING WORDBYWORD\")\n",
        "    !stable-ts \"$filename\" --model \"$model\" --word_level \"true\" --task \"$task\" --debug --language \"$languange\" -o \"$saveas\"\n",
        "    if wordbyword_py == True:\n",
        "      !python wordbyword.py \"$saveas\"\n",
        "else:\n",
        "    print(\"NO WORDBYWORD\")\n",
        "    !stable-ts \"$filename\" --model \"$model\" --word_level false --task \"$task\" --debug --language \"$languange\" -o \"$saveas\"\n",
        "    #!stable-ts \"$filename\" --model \"$model\" --word_level \"$word_level\" --max_words \"$max_words\" --task \"$task\" --debug --language \"$languange\" -o \"$saveas\"\n"
      ],
      "metadata": {
        "id": "zdF76wzqtD5Y"
      },
      "execution_count": null,
      "outputs": []
    },
    {
      "cell_type": "code",
      "source": [
        "!python wordbyword.py \"sub.srt\""
      ],
      "metadata": {
        "colab": {
          "base_uri": "https://localhost:8080/"
        },
        "id": "LjuUh3MxNsbh",
        "outputId": "7606c6bf-7a21-4e52-c408-7d8cc01cba92"
      },
      "execution_count": 13,
      "outputs": [
        {
          "output_type": "stream",
          "name": "stdout",
          "text": [
            "Processing subtitle using wordbyword.. script by: willydev\n",
            "Completed: File saved as sub-wordbyword.srt\n"
          ]
        }
      ]
    },
    {
      "cell_type": "code",
      "source": [
        "# Fix: AssertionError: libcuda.so cannot found!\n",
        "!export LC_ALL=\"en_US.UTF-8\"\n",
        "!export LD_LIBRARY_PATH=\"/usr/lib64-nvidia\"\n",
        "!export LIBRARY_PATH=\"/usr/local/cuda/lib64/stubs\"\n",
        "!ldconfig /usr/lib64-nvidia"
      ],
      "metadata": {
        "id": "9H8FgggfLn9D"
      },
      "execution_count": null,
      "outputs": []
    },
    {
      "cell_type": "code",
      "source": [
        "!stable-ts -h"
      ],
      "metadata": {
        "id": "WjRay529DbOv",
        "colab": {
          "base_uri": "https://localhost:8080/"
        },
        "outputId": "ad7766b6-9d4a-4e87-f205-f45ddf9449f1"
      },
      "execution_count": null,
      "outputs": [
        {
          "output_type": "stream",
          "name": "stdout",
          "text": [
            "usage: stable-ts [-h] [--output OUTPUT [OUTPUT ...]] [--model MODEL] [--model_dir MODEL_DIR]\n",
            "                 [--device DEVICE] [--cpu_preload CPU_PRELOAD] [--output_dir OUTPUT_DIR]\n",
            "                 [--output_format OUTPUT_FORMAT] [--verbose {0,1,2}] [--dynamic_quantization]\n",
            "                 [--task {transcribe,translate}]\n",
            "                 [--language {af,am,ar,as,az,ba,be,bg,bn,bo,br,bs,ca,cs,cy,da,de,el,en,es,et,eu,fa,fi,fo,fr,gl,gu,ha,haw,he,hi,hr,ht,hu,hy,id,is,it,ja,jw,ka,kk,km,kn,ko,la,lb,ln,lo,lt,lv,mg,mi,mk,ml,mn,mr,ms,mt,my,ne,nl,nn,no,oc,pa,pl,ps,pt,ro,ru,sa,sd,si,sk,sl,sn,so,sq,sr,su,sv,sw,ta,te,tg,th,tk,tl,tr,tt,uk,ur,uz,vi,yi,yo,yue,zh,Afrikaans,Albanian,Amharic,Arabic,Armenian,Assamese,Azerbaijani,Bashkir,Basque,Belarusian,Bengali,Bosnian,Breton,Bulgarian,Burmese,Cantonese,Castilian,Catalan,Chinese,Croatian,Czech,Danish,Dutch,English,Estonian,Faroese,Finnish,Flemish,French,Galician,Georgian,German,Greek,Gujarati,Haitian,Haitian Creole,Hausa,Hawaiian,Hebrew,Hindi,Hungarian,Icelandic,Indonesian,Italian,Japanese,Javanese,Kannada,Kazakh,Khmer,Korean,Lao,Latin,Latvian,Letzeburgesch,Lingala,Lithuanian,Luxembourgish,Macedonian,Malagasy,Malay,Malayalam,Maltese,Mandarin,Maori,Marathi,Moldavian,Moldovan,Mongolian,Myanmar,Nepali,Norwegian,Nynorsk,Occitan,Panjabi,Pashto,Persian,Polish,Portuguese,Punjabi,Pushto,Romanian,Russian,Sanskrit,Serbian,Shona,Sindhi,Sinhala,Sinhalese,Slovak,Slovenian,Somali,Spanish,Sundanese,Swahili,Swedish,Tagalog,Tajik,Tamil,Tatar,Telugu,Thai,Tibetan,Turkish,Turkmen,Ukrainian,Urdu,Uzbek,Valencian,Vietnamese,Welsh,Yiddish,Yoruba}]\n",
            "                 [--prepend_punctuations PREPEND_PUNCTUATIONS]\n",
            "                 [--append_punctuations APPEND_PUNCTUATIONS] [--gap_padding GAP_PADDING]\n",
            "                 [--word_timestamps WORD_TIMESTAMPS] [--regroup REGROUP] [--ts_num TS_NUM]\n",
            "                 [--ts_noise TS_NOISE] [--suppress_silence SUPPRESS_SILENCE]\n",
            "                 [--suppress_word_ts SUPPRESS_WORD_TS] [--suppress_ts_tokens SUPPRESS_TS_TOKENS]\n",
            "                 [--q_levels Q_LEVELS] [--k_size K_SIZE] [--time_scale TIME_SCALE] [--vad VAD]\n",
            "                 [--vad_threshold VAD_THRESHOLD] [--vad_onnx VAD_ONNX]\n",
            "                 [--min_word_dur MIN_WORD_DUR] [--max_chars MAX_CHARS] [--max_words MAX_WORDS]\n",
            "                 [--demucs DEMUCS] [--demucs_output DEMUCS_OUTPUT [DEMUCS_OUTPUT ...]]\n",
            "                 [--only_voice_freq] [--strip STRIP] [--tag TAG [TAG ...]]\n",
            "                 [--segment_level SEGMENT_LEVEL] [--word_level WORD_LEVEL]\n",
            "                 [--reverse_text REVERSE_TEXT] [--font FONT] [--font_size FONT_SIZE]\n",
            "                 [--karaoke KARAOKE] [--temperature TEMPERATURE] [--best_of BEST_OF]\n",
            "                 [--beam_size BEAM_SIZE] [--patience PATIENCE] [--length_penalty LENGTH_PENALTY]\n",
            "                 [--suppress_tokens SUPPRESS_TOKENS] [--initial_prompt INITIAL_PROMPT]\n",
            "                 [--condition_on_previous_text CONDITION_ON_PREVIOUS_TEXT] [--fp16 FP16]\n",
            "                 [--temperature_increment_on_fallback TEMPERATURE_INCREMENT_ON_FALLBACK]\n",
            "                 [--compression_ratio_threshold COMPRESSION_RATIO_THRESHOLD]\n",
            "                 [--logprob_threshold LOGPROB_THRESHOLD]\n",
            "                 [--no_speech_threshold NO_SPEECH_THRESHOLD] [--threads THREADS] [--mel_first]\n",
            "                 [--only_ffmpeg] [--overwrite] [--debug]\n",
            "                 [--transcribe_method {transcribe,transcribe_minimal}] [--align ALIGN [ALIGN ...]]\n",
            "                 [--refine] [--locate LOCATE [LOCATE ...]]\n",
            "                 [--refine_option REFINE_OPTION [REFINE_OPTION ...]]\n",
            "                 [--demucs_option DEMUCS_OPTION [DEMUCS_OPTION ...]]\n",
            "                 [--model_option MODEL_OPTION [MODEL_OPTION ...]]\n",
            "                 [--transcribe_option TRANSCRIBE_OPTION [TRANSCRIBE_OPTION ...]]\n",
            "                 [--save_option SAVE_OPTION [SAVE_OPTION ...]] [--faster_whisper]\n",
            "                 inputs [inputs ...]\n",
            "\n",
            "positional arguments:\n",
            "  inputs                audio/video filepath/URL(s) to transcribe or json file(s) to process into\n",
            "                        [output_format]\n",
            "\n",
            "options:\n",
            "  -h, --help            show this help message and exit\n",
            "  --output OUTPUT [OUTPUT ...], -o OUTPUT [OUTPUT ...]\n",
            "                        output filepaths(s);if not specified, auto-named output file(s) will be\n",
            "                        saved to [output_dir] or current dir if not specified. (default: None)\n",
            "  --model MODEL, -m MODEL\n",
            "                        name of the Whisper model to use (default: base)\n",
            "  --model_dir MODEL_DIR\n",
            "                        the path to save model files; uses ~/.cache/whisper by default (default:\n",
            "                        None)\n",
            "  --device DEVICE       device to use for PyTorch inference (default: cuda)\n",
            "  --cpu_preload CPU_PRELOAD\n",
            "                        load model into CPU memory first then move model to specified device; this\n",
            "                        reduces GPU memory usage when loading model. (default: True)\n",
            "  --output_dir OUTPUT_DIR, -d OUTPUT_DIR\n",
            "                        directory to save the outputs;if a path in [output] does not have parent,\n",
            "                        that output will be save to this directory (default: None)\n",
            "  --output_format OUTPUT_FORMAT, -f OUTPUT_FORMAT\n",
            "                        format of the output file(s); Supported Formats: {'tsv', 'srt', 'json',\n",
            "                        'txt', 'ass', 'vtt'}; use ',' to separate multiple formats (default: None)\n",
            "  --verbose {0,1,2}, -v {0,1,2}\n",
            "                        whether to display the text being decoded to the console; if 2, display\n",
            "                        all the details; if 1, display progressbar; if 0, display nothing\n",
            "                        (default: 1)\n",
            "  --dynamic_quantization, -dq\n",
            "                        whether to apply Dynamic Quantization to model to reduced memory usage\n",
            "                        (~half less) and increase inference speed at cost of slight decrease in\n",
            "                        accuracy; Only for CPU; NOTE: overhead might make inference slower for\n",
            "                        models smaller than 'large' (default: False)\n",
            "  --task {transcribe,translate}\n",
            "                        whether to perform X->X speech recognition ('transcribe') or X->English\n",
            "                        translation ('translate') (default: transcribe)\n",
            "  --language {af,am,ar,as,az,ba,be,bg,bn,bo,br,bs,ca,cs,cy,da,de,el,en,es,et,eu,fa,fi,fo,fr,gl,gu,ha,haw,he,hi,hr,ht,hu,hy,id,is,it,ja,jw,ka,kk,km,kn,ko,la,lb,ln,lo,lt,lv,mg,mi,mk,ml,mn,mr,ms,mt,my,ne,nl,nn,no,oc,pa,pl,ps,pt,ro,ru,sa,sd,si,sk,sl,sn,so,sq,sr,su,sv,sw,ta,te,tg,th,tk,tl,tr,tt,uk,ur,uz,vi,yi,yo,yue,zh,Afrikaans,Albanian,Amharic,Arabic,Armenian,Assamese,Azerbaijani,Bashkir,Basque,Belarusian,Bengali,Bosnian,Breton,Bulgarian,Burmese,Cantonese,Castilian,Catalan,Chinese,Croatian,Czech,Danish,Dutch,English,Estonian,Faroese,Finnish,Flemish,French,Galician,Georgian,German,Greek,Gujarati,Haitian,Haitian Creole,Hausa,Hawaiian,Hebrew,Hindi,Hungarian,Icelandic,Indonesian,Italian,Japanese,Javanese,Kannada,Kazakh,Khmer,Korean,Lao,Latin,Latvian,Letzeburgesch,Lingala,Lithuanian,Luxembourgish,Macedonian,Malagasy,Malay,Malayalam,Maltese,Mandarin,Maori,Marathi,Moldavian,Moldovan,Mongolian,Myanmar,Nepali,Norwegian,Nynorsk,Occitan,Panjabi,Pashto,Persian,Polish,Portuguese,Punjabi,Pushto,Romanian,Russian,Sanskrit,Serbian,Shona,Sindhi,Sinhala,Sinhalese,Slovak,Slovenian,Somali,Spanish,Sundanese,Swahili,Swedish,Tagalog,Tajik,Tamil,Tatar,Telugu,Thai,Tibetan,Turkish,Turkmen,Ukrainian,Urdu,Uzbek,Valencian,Vietnamese,Welsh,Yiddish,Yoruba}, -l {af,am,ar,as,az,ba,be,bg,bn,bo,br,bs,ca,cs,cy,da,de,el,en,es,et,eu,fa,fi,fo,fr,gl,gu,ha,haw,he,hi,hr,ht,hu,hy,id,is,it,ja,jw,ka,kk,km,kn,ko,la,lb,ln,lo,lt,lv,mg,mi,mk,ml,mn,mr,ms,mt,my,ne,nl,nn,no,oc,pa,pl,ps,pt,ro,ru,sa,sd,si,sk,sl,sn,so,sq,sr,su,sv,sw,ta,te,tg,th,tk,tl,tr,tt,uk,ur,uz,vi,yi,yo,yue,zh,Afrikaans,Albanian,Amharic,Arabic,Armenian,Assamese,Azerbaijani,Bashkir,Basque,Belarusian,Bengali,Bosnian,Breton,Bulgarian,Burmese,Cantonese,Castilian,Catalan,Chinese,Croatian,Czech,Danish,Dutch,English,Estonian,Faroese,Finnish,Flemish,French,Galician,Georgian,German,Greek,Gujarati,Haitian,Haitian Creole,Hausa,Hawaiian,Hebrew,Hindi,Hungarian,Icelandic,Indonesian,Italian,Japanese,Javanese,Kannada,Kazakh,Khmer,Korean,Lao,Latin,Latvian,Letzeburgesch,Lingala,Lithuanian,Luxembourgish,Macedonian,Malagasy,Malay,Malayalam,Maltese,Mandarin,Maori,Marathi,Moldavian,Moldovan,Mongolian,Myanmar,Nepali,Norwegian,Nynorsk,Occitan,Panjabi,Pashto,Persian,Polish,Portuguese,Punjabi,Pushto,Romanian,Russian,Sanskrit,Serbian,Shona,Sindhi,Sinhala,Sinhalese,Slovak,Slovenian,Somali,Spanish,Sundanese,Swahili,Swedish,Tagalog,Tajik,Tamil,Tatar,Telugu,Thai,Tibetan,Turkish,Turkmen,Ukrainian,Urdu,Uzbek,Valencian,Vietnamese,Welsh,Yiddish,Yoruba}\n",
            "                        language spoken in the audio, specify None to perform language detection\n",
            "                        (default: None)\n",
            "  --prepend_punctuations PREPEND_PUNCTUATIONS, -pp PREPEND_PUNCTUATIONS\n",
            "                        Punctuations to prepend to next word (default: \"'“¿([{-)\n",
            "  --append_punctuations APPEND_PUNCTUATIONS, -ap APPEND_PUNCTUATIONS\n",
            "                        Punctuations to append to previous word (default: \"'.。,，!！?？:：”)]}、)\n",
            "  --gap_padding GAP_PADDING\n",
            "                        padding prepend to each segments for word timing alignment;used to reduce\n",
            "                        the probability of model predicting timestamps earlier than the first\n",
            "                        utterance (default: ...)\n",
            "  --word_timestamps WORD_TIMESTAMPS\n",
            "                        extract word-level timestamps using the cross-attention pattern and\n",
            "                        dynamic time warping,and include the timestamps for each word in each\n",
            "                        segment;disabling this will prevent segments from splitting/merging\n",
            "                        properly. (default: True)\n",
            "  --regroup REGROUP     whether to regroup all words into segments with more natural\n",
            "                        boundaries;specify string for customizing the regrouping algorithmignored\n",
            "                        if [word_timestamps]=False. (default: True)\n",
            "  --ts_num TS_NUM       number of extra inferences to perform to find the mean timestamps\n",
            "                        (default: 0)\n",
            "  --ts_noise TS_NOISE   percentage of noise to add to audio_features to perform inferences for\n",
            "                        [ts_num] (default: 0.1)\n",
            "  --suppress_silence SUPPRESS_SILENCE\n",
            "                        whether to suppress timestamp where audio is silent at segment-leveland\n",
            "                        word-level if [suppress_word_ts]=True (default: True)\n",
            "  --suppress_word_ts SUPPRESS_WORD_TS\n",
            "                        whether to suppress timestamps where audio is silent at word-level;\n",
            "                        ignored if [suppress_silence]=False (default: True)\n",
            "  --suppress_ts_tokens SUPPRESS_TS_TOKENS\n",
            "                        whether to use silence mask to suppress silent timestamp tokens during\n",
            "                        inference; increases word accuracy in some cases, but tends reduce\n",
            "                        'verbatimness' of the transcriptignored if [suppress_silence]=False\n",
            "                        (default: False)\n",
            "  --q_levels Q_LEVELS   quantization levels for generating timestamp suppression mask; acts as a\n",
            "                        threshold to marking sound as silent;fewer levels will increase the\n",
            "                        threshold of volume at which to mark a sound as silent (default: 20)\n",
            "  --k_size K_SIZE       Kernel size for average pooling waveform to generate suppression mask;\n",
            "                        recommend 5 or 3; higher sizes will reduce detection of silence (default:\n",
            "                        5)\n",
            "  --time_scale TIME_SCALE\n",
            "                        factor for scaling audio duration for inference;greater than 1.0 'slows\n",
            "                        down' the audio; less than 1.0 'speeds up' the audio; 1.0 is no scaling\n",
            "                        (default: None)\n",
            "  --vad VAD             whether to use Silero VAD to generate timestamp suppression mask; Silero\n",
            "                        VAD requires PyTorch 1.12.0+;Official repo:\n",
            "                        https://github.com/snakers4/silero-vad (default: False)\n",
            "  --vad_threshold VAD_THRESHOLD\n",
            "                        threshold for detecting speech with Silero VAD. (Default: 0.35); low\n",
            "                        threshold reduces false positives for silence detection (default: 0.35)\n",
            "  --vad_onnx VAD_ONNX   whether to use ONNX for Silero VAD (default: False)\n",
            "  --min_word_dur MIN_WORD_DUR\n",
            "                        only allow suppressing timestamps that result in word durations greater\n",
            "                        than this value (default: 0.1)\n",
            "  --max_chars MAX_CHARS\n",
            "                        maximum number of character allowed in each segment (default: None)\n",
            "  --max_words MAX_WORDS\n",
            "                        maximum number of words allowed in each segment (default: None)\n",
            "  --demucs DEMUCS       whether to reprocess the audio track with Demucs to isolate vocals/remove\n",
            "                        noise; Demucs official repo: https://github.com/facebookresearch/demucs\n",
            "                        (default: False)\n",
            "  --demucs_output DEMUCS_OUTPUT [DEMUCS_OUTPUT ...]\n",
            "                        path(s) to save the vocals isolated by Demucs as WAV file(s); ignored if\n",
            "                        [demucs]=False (default: None)\n",
            "  --only_voice_freq, -ovf\n",
            "                        whether to only use sound between 200 - 5000 Hz, where majority of human\n",
            "                        speech are. (default: False)\n",
            "  --strip STRIP         whether to remove spaces before and after text on each segment for output\n",
            "                        (default: True)\n",
            "  --tag TAG [TAG ...]   a pair tags used to change the properties a word at its predicted timeSRT\n",
            "                        Default: '<font color=\"#00ff00\">', '</font>'VTT Default: '<u>', '</u>'ASS\n",
            "                        Default: '{\\1c&HFF00&}', '{\\r}' (default: None)\n",
            "  --segment_level SEGMENT_LEVEL\n",
            "                        whether to use segment-level timestamps in output (default: True)\n",
            "  --word_level WORD_LEVEL\n",
            "                        whether to use word-level timestamps in output (default: True)\n",
            "  --reverse_text REVERSE_TEXT\n",
            "                        whether to reverse the order of words for each segment of text output\n",
            "                        (default: False)\n",
            "  --font FONT           word font for ASS output(s) (default: Arial)\n",
            "  --font_size FONT_SIZE\n",
            "                        word font size for ASS output(s) (default: 48)\n",
            "  --karaoke KARAOKE     whether to use progressive filling highlights for karaoke effect (only for\n",
            "                        ASS outputs) (default: False)\n",
            "  --temperature TEMPERATURE\n",
            "                        temperature to use for sampling (default: 0)\n",
            "  --best_of BEST_OF     number of candidates when sampling with non-zero temperature (default:\n",
            "                        None)\n",
            "  --beam_size BEAM_SIZE\n",
            "                        number of beams in beam search, only applicable when temperature is zero\n",
            "                        (default: None)\n",
            "  --patience PATIENCE   optional patience value to use in beam decoding, as in\n",
            "                        https://arxiv.org/abs/2204.05424, the default (1.0) is equivalent to\n",
            "                        conventional beam search (default: None)\n",
            "  --length_penalty LENGTH_PENALTY\n",
            "                        optional token length penalty coefficient (alpha) as in\n",
            "                        https://arxiv.org/abs/1609.08144, uses simple length normalization by\n",
            "                        default (default: None)\n",
            "  --suppress_tokens SUPPRESS_TOKENS\n",
            "                        comma-separated list of token ids to suppress during sampling; '-1' will\n",
            "                        suppress most special characters except common punctuations (default: -1)\n",
            "  --initial_prompt INITIAL_PROMPT\n",
            "                        optional text to provide as a prompt for the first window. (default: None)\n",
            "  --condition_on_previous_text CONDITION_ON_PREVIOUS_TEXT\n",
            "                        if True, provide the previous output of the model as a prompt for the next\n",
            "                        window; disabling may make the text inconsistent across windows, but the\n",
            "                        model becomes less prone to getting stuck in a failure loop (default:\n",
            "                        True)\n",
            "  --fp16 FP16           whether to perform inference in fp16; True by default (default: True)\n",
            "  --temperature_increment_on_fallback TEMPERATURE_INCREMENT_ON_FALLBACK\n",
            "                        temperature to increase when falling back when the decoding fails to meet\n",
            "                        either of the thresholds below (default: 0.2)\n",
            "  --compression_ratio_threshold COMPRESSION_RATIO_THRESHOLD\n",
            "                        if the gzip compression ratio is higher than this value, treat the\n",
            "                        decoding as failed (default: 2.4)\n",
            "  --logprob_threshold LOGPROB_THRESHOLD\n",
            "                        if the average log probability is lower than this value, treat the\n",
            "                        decoding as failed (default: -1.0)\n",
            "  --no_speech_threshold NO_SPEECH_THRESHOLD\n",
            "                        if the probability of the <|nospeech|> token is higher than this value AND\n",
            "                        the decoding has failed due to `logprob_threshold`, consider the segment\n",
            "                        as silence (default: 0.6)\n",
            "  --threads THREADS     number of threads used by torch for CPU inference; supercedes\n",
            "                        MKL_NUM_THREADS/OMP_NUM_THREADS (default: 0)\n",
            "  --mel_first           process entire audio track into log-Mel spectrogram first instead in\n",
            "                        chunks (default: False)\n",
            "  --only_ffmpeg         whether to use only FFmpeg (and not yt-dlp) for URls (default: False)\n",
            "  --overwrite, -y       overwrite all output files (default: False)\n",
            "  --debug               print all input/output pair(s) and all arguments used for\n",
            "                        transcribing/translating (default: False)\n",
            "  --transcribe_method {transcribe,transcribe_minimal}, -tm {transcribe,transcribe_minimal}\n",
            "  --align ALIGN [ALIGN ...], -a ALIGN [ALIGN ...]\n",
            "                        path(s) to TXT file(s) or JSON previous result(s) (default: None)\n",
            "  --refine, -r          Refine timestamps to increase precision of timestamps (default: False)\n",
            "  --locate LOCATE [LOCATE ...], -lc LOCATE [LOCATE ...]\n",
            "                        words to locate in the audio(s); skips transcription and output (default:\n",
            "                        None)\n",
            "  --refine_option REFINE_OPTION [REFINE_OPTION ...], -ro REFINE_OPTION [REFINE_OPTION ...]\n",
            "                        Extra option(s) to use for refining timestamps; Replace True/False with\n",
            "                        1/0; E.g. --refine_option \"steps=sese\" --refine_options\n",
            "                        \"rel_prob_decrease=0.05\" (default: None)\n",
            "  --demucs_option DEMUCS_OPTION [DEMUCS_OPTION ...], -do DEMUCS_OPTION [DEMUCS_OPTION ...]\n",
            "                        Extra option(s) to use for demucs; Replace True/False with 1/0; E.g.\n",
            "                        --demucs_option \"shifts=3\" --demucs_options \"overlap=0.5\" (default: None)\n",
            "  --model_option MODEL_OPTION [MODEL_OPTION ...], -mo MODEL_OPTION [MODEL_OPTION ...]\n",
            "                        Extra option(s) to use for loading model; Replace True/False with 1/0;\n",
            "                        E.g. --model_option \"download_root=./downloads\" (default: None)\n",
            "  --transcribe_option TRANSCRIBE_OPTION [TRANSCRIBE_OPTION ...], -to TRANSCRIBE_OPTION [TRANSCRIBE_OPTION ...]\n",
            "                        Extra option(s) to use for transcribing/alignment/locating; Replace\n",
            "                        True/False with 1/0; E.g. --transcribe_option \"ignore_compatibility=1\"\n",
            "                        (default: None)\n",
            "  --save_option SAVE_OPTION [SAVE_OPTION ...], -so SAVE_OPTION [SAVE_OPTION ...]\n",
            "                        Extra option(s) to use for text outputs; Replace True/False with 1/0; E.g.\n",
            "                        --save_option \"highlight_color=ffffff\" (default: None)\n",
            "  --faster_whisper, -fw\n",
            "                        whether to use faster-whisper (https://github.com/guillaumekln/faster-\n",
            "                        whisper); note: some features may not be available (default: False)\n"
          ]
        }
      ]
    }
  ]
}