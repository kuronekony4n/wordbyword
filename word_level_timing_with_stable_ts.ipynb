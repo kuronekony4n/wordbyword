{
  "nbformat": 4,
  "nbformat_minor": 0,
  "metadata": {
    "colab": {
      "provenance": []
    },
    "kernelspec": {
      "name": "python3",
      "display_name": "Python 3"
    },
    "language_info": {
      "name": "python"
    },
    "accelerator": "GPU",
    "gpuClass": "standard"
  },
  "cells": [
    {
      "cell_type": "markdown",
      "source": [
        "# Check GPU availability"
      ],
      "metadata": {
        "id": "KyF0sZteu7ec"
      }
    },
    {
      "cell_type": "code",
      "source": [
        "!nvidia-smi"
      ],
      "metadata": {
        "id": "8ZW7t9Sdu6X0"
      },
      "execution_count": null,
      "outputs": []
    },
    {
      "cell_type": "code",
      "source": [
        "# Install Stable-ts\n",
        "!pip install -U stable-ts\n",
        "# Install wordbyword.py by willydev\n",
        "!wget -q \"https://raw.githubusercontent.com/kuronekony4n/wordbyword/main/wordbyword.py\""
      ],
      "metadata": {
        "id": "nvmXbMvlKknm"
      },
      "execution_count": null,
      "outputs": []
    },
    {
      "cell_type": "code",
      "source": [
        "#@title Make a subtitle!\n",
        "#@markdown ---\n",
        "#@markdown Options:\n",
        "filename = 'FinalAudio.mp3'  #@param {type: \"string\"}\n",
        "model = \"large-v2\"  #@param ['tiny.en', 'tiny', 'base.en', 'base', 'small.en', 'small', 'medium.en', 'medium', 'large-v1', 'large-v2', 'large']\n",
        "task = \"transcribe\"  #@param ['translate', 'transcribe']\n",
        "languange = \"Indonesian\"  #@param [  \"Afrikaans\",  \"Albanian\",  \"Amharic\",  \"Arabic\",  \"Armenian\",  \"Assamese\",  \"Azerbaijani\",  \"Bashkir\",  \"Basque\",  \"Belarusian\",  \"Bengali\",  \"Bosnian\",  \"Breton\",  \"Bulgarian\",  \"Burmese\",  \"Castilian\",  \"Catalan\",  \"Chinese\",  \"Croatian\",  \"Czech\",  \"Danish\",  \"Dutch\",  \"English\",  \"Estonian\",  \"Faroese\",  \"Finnish\",  \"Flemish\",  \"French\",  \"Galician\",  \"Georgian\",  \"German\",  \"Greek\",  \"Gujarati\",  \"Haitian\",  \"Haitian Creole\",  \"Hausa\",  \"Hawaiian\",  \"Hebrew\",  \"Hindi\",  \"Hungarian\",  \"Icelandic\",  \"Indonesian\",  \"Italian\",  \"Japanese\",  \"Javanese\",  \"Kannada\",  \"Kazakh\",  \"Khmer\",  \"Korean\",  \"Lao\",  \"Latin\",  \"Latvian\",  \"Letzeburgesch\",  \"Lingala\",  \"Lithuanian\",  \"Luxembourgish\",  \"Macedonian\",  \"Malagasy\",  \"Malay\",  \"Malayalam\",  \"Maltese\",  \"Maori\",  \"Marathi\",  \"Moldavian\",  \"Moldovan\",  \"Mongolian\",  \"Myanmar\",  \"Nepali\",  \"Norwegian\",  \"Nynorsk\",  \"Occitan\",  \"Panjabi\",  \"Pashto\",  \"Persian\",  \"Polish\",  \"Portuguese\",  \"Punjabi\",  \"Pushto\",  \"Romanian\",  \"Russian\",  \"Sanskrit\",  \"Serbian\",  \"Shona\",  \"Sindhi\",  \"Sinhala\",  \"Sinhalese\",  \"Slovak\",  \"Slovenian\",  \"Somali\",  \"Spanish\",  \"Sundanese\",  \"Swahili\",  \"Swedish\",  \"Tagalog\",  \"Tajik\",  \"Tamil\",  \"Tatar\",  \"Telugu\",  \"Thai\",  \"Tibetan\",  \"Turkish\",  \"Turkmen\",  \"Ukrainian\",  \"Urdu\",  \"Uzbek\",  \"Valencian\",  \"Vietnamese\",  \"Welsh\",  \"Yiddish\",  \"Yoruba\"]\n",
        "saveas = 'sub.srt'  #@param {type: \"string\"}\n",
        "#@markdown ---\n",
        "#@markdown Maximum words per line:\n",
        "max_words = 10  #@param {type: \"number\"}\n",
        "#@markdown Make each word timed and highlighted:\n",
        "word_level = False #@param {type:\"boolean\"}\n",
        "#@markdown Only output each word per line: (word_level need to be true)\n",
        "wordbyword_py = False #@param {type:\"boolean\"}\n",
        "\n",
        "if word_level:\n",
        "    print(\"USING WORDBYWORD\")\n",
        "    !stable-ts \"$filename\" --model \"$model\" --word_level \"true\" --task \"$task\" --debug --language \"$languange\" -o \"$saveas\"\n",
        "    if wordbyword_py == True:\n",
        "      !python wordbyword.py \"$saveas\"\n",
        "else:\n",
        "    print(\"NO WORDBYWORD\")\n",
        "    !stable-ts \"$filename\" --model \"$model\" --word_level false --task \"$task\" --debug --language \"$languange\" -o \"$saveas\"\n",
        "    #!stable-ts \"$filename\" --model \"$model\" --word_level \"$word_level\" --max_words \"$max_words\" --task \"$task\" --debug --language \"$languange\" -o \"$saveas\"\n"
      ],
      "metadata": {
        "id": "zdF76wzqtD5Y",
        "colab": {
          "base_uri": "https://localhost:8080/"
        },
        "outputId": "ba05e9b4-375d-4cb4-86bc-9bd94607b7b4"
      },
      "execution_count": null,
      "outputs": [
        {
          "output_type": "stream",
          "name": "stdout",
          "text": [
            "NO WORDBYWORD\n",
            "\n",
            "Model Arguments \n",
            "Model: large-v2\n",
            "device: cuda\n",
            "download_root: None\n",
            "dynamic_quantization: False\n",
            "\n",
            "Arguments for transcribe\n",
            "verbose: 1\n",
            "task: transcribe\n",
            "language: Indonesian\n",
            "prepend_punctuations: \"'“¿([{-\n",
            "append_punctuations: \"'.。,，!！?？:：”)]}、\n",
            "gap_padding:  ...\n",
            "word_timestamps: True\n",
            "ts_num: 0\n",
            "ts_noise: 0.1\n",
            "suppress_silence: True\n",
            "suppress_word_ts: True\n",
            "suppress_ts_tokens: True\n",
            "q_levels: 20\n",
            "k_size: 5\n",
            "time_scale: None\n",
            "vad: False\n",
            "vad_threshold: 0.35\n",
            "vad_onnx: False\n",
            "min_word_dur: 0.1\n",
            "only_voice_freq: False\n",
            "best_of: None\n",
            "beam_size: None\n",
            "patience: None\n",
            "length_penalty: None\n",
            "suppress_tokens: -1\n",
            "initial_prompt: None\n",
            "condition_on_previous_text: True\n",
            "fp16: True\n",
            "compression_ratio_threshold: 2.4\n",
            "logprob_threshold: -1.0\n",
            "no_speech_threshold: 0.6\n",
            "mel_first: False\n",
            "only_ffmpeg: False\n",
            "temperature: (0.0, 0.2, 0.4, 0.6000000000000001, 0.8, 1.0)\n",
            "use_demucs: False\n",
            "\n",
            "Arguments for Output(s) \n",
            "overwrite: False\n",
            "segment_level: True\n",
            "word_level: False\n",
            "tag: None\n",
            "karaoke: False\n",
            "strip: True\n",
            "regroup: True\n",
            "max_chars: None\n",
            "max_words: None\n",
            "reverse_text: False\n",
            "\n",
            "Arguments for ASS Output \n",
            "font: Arial\n",
            "font_size: 48\n",
            "\n",
            "Input(s)  ->  Outputs(s)\n",
            "FinalAudio.mp3  ->  sub.srt\n",
            "\n",
            "\n",
            "100%|██████████████████████████████████████| 2.87G/2.87G [00:27<00:00, 113MiB/s]\n",
            "Loaded Whisper large-v2 model   \n",
            "100% 1622.13/1622.13 [09:19<00:00,  2.90sec/s]\n",
            "/usr/local/lib/python3.10/dist-packages/stable_whisper/stabilization.py:37: UserWarning: Found timestamp(s) jumping backwards in time. Use word_timestamps=True to avoid the issue.\n",
            "  warnings.warn(message='Found timestamp(s) jumping backwards in time. '\n",
            "Saved: /content/sub.srt\n"
          ]
        }
      ]
    },
    {
      "cell_type": "code",
      "source": [
        "!stable-ts -h"
      ],
      "metadata": {
        "id": "WjRay529DbOv"
      },
      "execution_count": null,
      "outputs": []
    }
  ]
}